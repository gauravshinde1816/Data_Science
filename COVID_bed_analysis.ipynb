{
  "nbformat": 4,
  "nbformat_minor": 0,
  "metadata": {
    "colab": {
      "name": "Project.ipynb",
      "provenance": [],
      "toc_visible": true
    },
    "kernelspec": {
      "name": "python3",
      "display_name": "Python 3"
    }
  },
  "cells": [
    {
      "cell_type": "code",
      "metadata": {
        "id": "Z4LMbxabKcFE",
        "colab_type": "code",
        "colab": {}
      },
      "source": [
        "import pandas as pd\n",
        "import numpy as np\n",
        "import matplotlib.pyplot as plt\n",
        "%matplotlib inline\n"
      ],
      "execution_count": null,
      "outputs": []
    },
    {
      "cell_type": "markdown",
      "metadata": {
        "id": "GoBL7n2QftP_",
        "colab_type": "text"
      },
      "source": [
        "#Analysis of India's Data"
      ]
    },
    {
      "cell_type": "code",
      "metadata": {
        "id": "Brf-qqCZMvv6",
        "colab_type": "code",
        "colab": {
          "base_uri": "https://localhost:8080/",
          "height": 293
        },
        "outputId": "8b68f63e-b747-4679-84d0-37ba68638fc9"
      },
      "source": [
        "INA =pd.read_csv('hospital_beds_per_india_v1.csv')\n",
        "INA.head()"
      ],
      "execution_count": null,
      "outputs": [
        {
          "output_type": "execute_result",
          "data": {
            "text/html": [
              "<div>\n",
              "<style scoped>\n",
              "    .dataframe tbody tr th:only-of-type {\n",
              "        vertical-align: middle;\n",
              "    }\n",
              "\n",
              "    .dataframe tbody tr th {\n",
              "        vertical-align: top;\n",
              "    }\n",
              "\n",
              "    .dataframe thead th {\n",
              "        text-align: right;\n",
              "    }\n",
              "</style>\n",
              "<table border=\"1\" class=\"dataframe\">\n",
              "  <thead>\n",
              "    <tr style=\"text-align: right;\">\n",
              "      <th></th>\n",
              "      <th>country</th>\n",
              "      <th>state</th>\n",
              "      <th>county</th>\n",
              "      <th>lat</th>\n",
              "      <th>lng</th>\n",
              "      <th>type</th>\n",
              "      <th>measure</th>\n",
              "      <th>beds</th>\n",
              "      <th>population</th>\n",
              "      <th>year</th>\n",
              "      <th>source</th>\n",
              "      <th>source_url</th>\n",
              "    </tr>\n",
              "  </thead>\n",
              "  <tbody>\n",
              "    <tr>\n",
              "      <th>0</th>\n",
              "      <td>IN</td>\n",
              "      <td>AN</td>\n",
              "      <td>NaN</td>\n",
              "      <td>11.7401</td>\n",
              "      <td>92.6586</td>\n",
              "      <td>TOTAL</td>\n",
              "      <td>1000HAB</td>\n",
              "      <td>2.825081</td>\n",
              "      <td>380520</td>\n",
              "      <td>2016</td>\n",
              "      <td>nhp</td>\n",
              "      <td>http://www.cbhidghs.nic.in/showfile.php?lid=1147</td>\n",
              "    </tr>\n",
              "    <tr>\n",
              "      <th>1</th>\n",
              "      <td>IN</td>\n",
              "      <td>AP</td>\n",
              "      <td>NaN</td>\n",
              "      <td>15.9129</td>\n",
              "      <td>79.7400</td>\n",
              "      <td>TOTAL</td>\n",
              "      <td>1000HAB</td>\n",
              "      <td>0.436072</td>\n",
              "      <td>53060000</td>\n",
              "      <td>2017</td>\n",
              "      <td>nhp</td>\n",
              "      <td>http://www.cbhidghs.nic.in/showfile.php?lid=1147</td>\n",
              "    </tr>\n",
              "    <tr>\n",
              "      <th>2</th>\n",
              "      <td>IN</td>\n",
              "      <td>AR</td>\n",
              "      <td>NaN</td>\n",
              "      <td>28.2180</td>\n",
              "      <td>94.7278</td>\n",
              "      <td>TOTAL</td>\n",
              "      <td>1000HAB</td>\n",
              "      <td>1.427893</td>\n",
              "      <td>1683600</td>\n",
              "      <td>2018</td>\n",
              "      <td>nhp</td>\n",
              "      <td>http://www.cbhidghs.nic.in/showfile.php?lid=1147</td>\n",
              "    </tr>\n",
              "    <tr>\n",
              "      <th>3</th>\n",
              "      <td>IN</td>\n",
              "      <td>AS</td>\n",
              "      <td>NaN</td>\n",
              "      <td>26.2006</td>\n",
              "      <td>92.9376</td>\n",
              "      <td>TOTAL</td>\n",
              "      <td>1000HAB</td>\n",
              "      <td>0.497753</td>\n",
              "      <td>34438756</td>\n",
              "      <td>2017</td>\n",
              "      <td>nhp</td>\n",
              "      <td>http://www.cbhidghs.nic.in/showfile.php?lid=1147</td>\n",
              "    </tr>\n",
              "    <tr>\n",
              "      <th>4</th>\n",
              "      <td>IN</td>\n",
              "      <td>BR</td>\n",
              "      <td>NaN</td>\n",
              "      <td>25.0961</td>\n",
              "      <td>85.3131</td>\n",
              "      <td>TOTAL</td>\n",
              "      <td>1000HAB</td>\n",
              "      <td>0.094838</td>\n",
              "      <td>122988691</td>\n",
              "      <td>2018</td>\n",
              "      <td>nhp</td>\n",
              "      <td>http://www.cbhidghs.nic.in/showfile.php?lid=1147</td>\n",
              "    </tr>\n",
              "  </tbody>\n",
              "</table>\n",
              "</div>"
            ],
            "text/plain": [
              "  country state  ...  source                                        source_url\n",
              "0      IN    AN  ...     nhp  http://www.cbhidghs.nic.in/showfile.php?lid=1147\n",
              "1      IN    AP  ...     nhp  http://www.cbhidghs.nic.in/showfile.php?lid=1147\n",
              "2      IN    AR  ...     nhp  http://www.cbhidghs.nic.in/showfile.php?lid=1147\n",
              "3      IN    AS  ...     nhp  http://www.cbhidghs.nic.in/showfile.php?lid=1147\n",
              "4      IN    BR  ...     nhp  http://www.cbhidghs.nic.in/showfile.php?lid=1147\n",
              "\n",
              "[5 rows x 12 columns]"
            ]
          },
          "metadata": {
            "tags": []
          },
          "execution_count": 3
        }
      ]
    },
    {
      "cell_type": "markdown",
      "metadata": {
        "id": "CN6GpWjEWo4u",
        "colab_type": "text"
      },
      "source": [
        "#Removing unwanted columns"
      ]
    },
    {
      "cell_type": "code",
      "metadata": {
        "id": "4n6704feNrT_",
        "colab_type": "code",
        "colab": {
          "base_uri": "https://localhost:8080/",
          "height": 206
        },
        "outputId": "d48376f4-1985-437a-a33a-76270db5a095"
      },
      "source": [
        "INA.drop(columns=['source_url','lng','lat','county','source','year'] , inplace=True)\n",
        "INA.head()\n"
      ],
      "execution_count": null,
      "outputs": [
        {
          "output_type": "execute_result",
          "data": {
            "text/html": [
              "<div>\n",
              "<style scoped>\n",
              "    .dataframe tbody tr th:only-of-type {\n",
              "        vertical-align: middle;\n",
              "    }\n",
              "\n",
              "    .dataframe tbody tr th {\n",
              "        vertical-align: top;\n",
              "    }\n",
              "\n",
              "    .dataframe thead th {\n",
              "        text-align: right;\n",
              "    }\n",
              "</style>\n",
              "<table border=\"1\" class=\"dataframe\">\n",
              "  <thead>\n",
              "    <tr style=\"text-align: right;\">\n",
              "      <th></th>\n",
              "      <th>country</th>\n",
              "      <th>state</th>\n",
              "      <th>type</th>\n",
              "      <th>measure</th>\n",
              "      <th>beds</th>\n",
              "      <th>population</th>\n",
              "    </tr>\n",
              "  </thead>\n",
              "  <tbody>\n",
              "    <tr>\n",
              "      <th>0</th>\n",
              "      <td>IN</td>\n",
              "      <td>AN</td>\n",
              "      <td>TOTAL</td>\n",
              "      <td>1000HAB</td>\n",
              "      <td>2.825081</td>\n",
              "      <td>380520</td>\n",
              "    </tr>\n",
              "    <tr>\n",
              "      <th>1</th>\n",
              "      <td>IN</td>\n",
              "      <td>AP</td>\n",
              "      <td>TOTAL</td>\n",
              "      <td>1000HAB</td>\n",
              "      <td>0.436072</td>\n",
              "      <td>53060000</td>\n",
              "    </tr>\n",
              "    <tr>\n",
              "      <th>2</th>\n",
              "      <td>IN</td>\n",
              "      <td>AR</td>\n",
              "      <td>TOTAL</td>\n",
              "      <td>1000HAB</td>\n",
              "      <td>1.427893</td>\n",
              "      <td>1683600</td>\n",
              "    </tr>\n",
              "    <tr>\n",
              "      <th>3</th>\n",
              "      <td>IN</td>\n",
              "      <td>AS</td>\n",
              "      <td>TOTAL</td>\n",
              "      <td>1000HAB</td>\n",
              "      <td>0.497753</td>\n",
              "      <td>34438756</td>\n",
              "    </tr>\n",
              "    <tr>\n",
              "      <th>4</th>\n",
              "      <td>IN</td>\n",
              "      <td>BR</td>\n",
              "      <td>TOTAL</td>\n",
              "      <td>1000HAB</td>\n",
              "      <td>0.094838</td>\n",
              "      <td>122988691</td>\n",
              "    </tr>\n",
              "  </tbody>\n",
              "</table>\n",
              "</div>"
            ],
            "text/plain": [
              "  country state   type  measure      beds  population\n",
              "0      IN    AN  TOTAL  1000HAB  2.825081      380520\n",
              "1      IN    AP  TOTAL  1000HAB  0.436072    53060000\n",
              "2      IN    AR  TOTAL  1000HAB  1.427893     1683600\n",
              "3      IN    AS  TOTAL  1000HAB  0.497753    34438756\n",
              "4      IN    BR  TOTAL  1000HAB  0.094838   122988691"
            ]
          },
          "metadata": {
            "tags": []
          },
          "execution_count": 4
        }
      ]
    },
    {
      "cell_type": "markdown",
      "metadata": {
        "id": "qS3hVqglYOkN",
        "colab_type": "text"
      },
      "source": [
        "#Total no. of beds\n",
        "\n",
        "\n",
        "* Actual no of beds = INA['beds']*INA['population']\n",
        "                \n",
        "\n",
        "\n"
      ]
    },
    {
      "cell_type": "code",
      "metadata": {
        "id": "NFbiZ1uDX2m_",
        "colab_type": "code",
        "colab": {
          "base_uri": "https://localhost:8080/",
          "height": 128
        },
        "outputId": "328bf0de-9ae1-4fe5-b967-a2b2afd22000"
      },
      "source": [
        "INA['total beds']=INA['beds']*INA['population']\n",
        "INA['total beds'].head()"
      ],
      "execution_count": null,
      "outputs": [
        {
          "output_type": "execute_result",
          "data": {
            "text/plain": [
              "0    1.075000e+06\n",
              "1    2.313798e+07\n",
              "2    2.404001e+06\n",
              "3    1.714199e+07\n",
              "4    1.166400e+07\n",
              "Name: total beds, dtype: float64"
            ]
          },
          "metadata": {
            "tags": []
          },
          "execution_count": 5
        }
      ]
    },
    {
      "cell_type": "markdown",
      "metadata": {
        "id": "pwj4mBizSP3D",
        "colab_type": "text"
      },
      "source": [
        "#Data Exploration"
      ]
    },
    {
      "cell_type": "code",
      "metadata": {
        "id": "ToroLfjtOshJ",
        "colab_type": "code",
        "colab": {
          "base_uri": "https://localhost:8080/",
          "height": 165
        },
        "outputId": "2f11d45e-49a8-48e1-a37e-b5faebd7b6af"
      },
      "source": [
        "INA.dtypes"
      ],
      "execution_count": null,
      "outputs": [
        {
          "output_type": "execute_result",
          "data": {
            "text/plain": [
              "country        object\n",
              "state          object\n",
              "type           object\n",
              "measure        object\n",
              "beds          float64\n",
              "population      int64\n",
              "total beds    float64\n",
              "dtype: object"
            ]
          },
          "metadata": {
            "tags": []
          },
          "execution_count": 6
        }
      ]
    },
    {
      "cell_type": "code",
      "metadata": {
        "id": "vU6rvxSqh1Iv",
        "colab_type": "code",
        "colab": {
          "base_uri": "https://localhost:8080/",
          "height": 165
        },
        "outputId": "af7e2c09-7ff8-4678-eaaa-54c5d5392729"
      },
      "source": [
        "#Finding Misssing values\n",
        "INA.isnull().sum()"
      ],
      "execution_count": null,
      "outputs": [
        {
          "output_type": "execute_result",
          "data": {
            "text/plain": [
              "country       0\n",
              "state         0\n",
              "type          0\n",
              "measure       0\n",
              "beds          0\n",
              "population    0\n",
              "total beds    0\n",
              "dtype: int64"
            ]
          },
          "metadata": {
            "tags": []
          },
          "execution_count": 7
        }
      ]
    },
    {
      "cell_type": "markdown",
      "metadata": {
        "id": "M0JqFsmIh_ZR",
        "colab_type": "text"
      },
      "source": [
        "\n",
        "\n",
        "*   Hence, There are no Missing values un out Required data set\n",
        "\n",
        "\n"
      ]
    },
    {
      "cell_type": "markdown",
      "metadata": {
        "id": "TkdWcBsiZ5cY",
        "colab_type": "text"
      },
      "source": [
        "#Univariate Analysis of total no of beds"
      ]
    },
    {
      "cell_type": "code",
      "metadata": {
        "id": "nFxfjlyqStCr",
        "colab_type": "code",
        "colab": {
          "base_uri": "https://localhost:8080/",
          "height": 183
        },
        "outputId": "ec06c004-c12f-48ed-a978-5031fcb15607"
      },
      "source": [
        "INA['total beds'].describe()"
      ],
      "execution_count": null,
      "outputs": [
        {
          "output_type": "execute_result",
          "data": {
            "text/plain": [
              "count    3.700000e+01\n",
              "mean     3.859384e+07\n",
              "std      1.164970e+08\n",
              "min      2.400001e+05\n",
              "25%      3.012000e+06\n",
              "50%      1.124001e+07\n",
              "75%      2.438299e+07\n",
              "max      7.139862e+08\n",
              "Name: total beds, dtype: float64"
            ]
          },
          "metadata": {
            "tags": []
          },
          "execution_count": 8
        }
      ]
    },
    {
      "cell_type": "code",
      "metadata": {
        "id": "eJHlypXBaLHI",
        "colab_type": "code",
        "colab": {
          "base_uri": "https://localhost:8080/",
          "height": 278
        },
        "outputId": "a536fe28-0440-402f-f54a-76913107bda1"
      },
      "source": [
        "plt.hist(INA['population'], bins=50)\n",
        "plt.show()"
      ],
      "execution_count": null,
      "outputs": [
        {
          "output_type": "display_data",
          "data": {
            "image/png": "[encoded data removed]",
            "text/plain": [
              "<Figure size 432x288 with 1 Axes>"
            ]
          },
          "metadata": {
            "tags": [],
            "needs_background": "light"
          }
        }
      ]
    },
    {
      "cell_type": "code",
      "metadata": {
        "id": "uve21dXuawCf",
        "colab_type": "code",
        "colab": {
          "base_uri": "https://localhost:8080/",
          "height": 276
        },
        "outputId": "af240fcb-0577-4a80-c0cf-93c0ab32d7b5"
      },
      "source": [
        "plt.boxplot(INA['total beds'])\n",
        "plt.show()"
      ],
      "execution_count": null,
      "outputs": [
        {
          "output_type": "display_data",
          "data": {
            "image/png": "[encoded data removed]",
            "text/plain": [
              "<Figure size 432x288 with 1 Axes>"
            ]
          },
          "metadata": {
            "tags": [],
            "needs_background": "light"
          }
        }
      ]
    },
    {
      "cell_type": "markdown",
      "metadata": {
        "id": "33Hq8uC8cfsN",
        "colab_type": "text"
      },
      "source": [
        "#Bivariate Analysis"
      ]
    },
    {
      "cell_type": "markdown",
      "metadata": {
        "id": "arx4KfjnuDWJ",
        "colab_type": "text"
      },
      "source": [
        "#State v/s Population"
      ]
    },
    {
      "cell_type": "code",
      "metadata": {
        "id": "AEM_h0j8bV3m",
        "colab_type": "code",
        "colab": {
          "base_uri": "https://localhost:8080/",
          "height": 895
        },
        "outputId": "b9e4e8a7-e374-4373-fdee-72f137cdcbe3"
      },
      "source": [
        "fig, ax = plt.subplots()\n",
        "fig.set_figheight(15)\n",
        "fig.set_figwidth(15)\n",
        "plt.xlabel('state')\n",
        "plt.ylabel('population')\n",
        "ax.bar(INA['state'],INA['population'])\n",
        "labels = ax.get_xticklabels()\n",
        "plt.setp(labels, rotation=90, horizontalalignment='right')\n",
        "plt.show()"
      ],
      "execution_count": null,
      "outputs": [
        {
          "output_type": "display_data",
          "data": {
            "image/png": "[encoded data removed]",
            "text/plain": [
              "<Figure size 1080x1080 with 1 Axes>"
            ]
          },
          "metadata": {
            "tags": [],
            "needs_background": "light"
          }
        }
      ]
    },
    {
      "cell_type": "markdown",
      "metadata": {
        "id": "DJLgbUmsXsoh",
        "colab_type": "text"
      },
      "source": [
        "* 'IN' field here is not cosidered as state and it represent the total population of india , we have to remove this."
      ]
    },
    {
      "cell_type": "code",
      "metadata": {
        "id": "ZCmKv-57c3wl",
        "colab_type": "code",
        "colab": {}
      },
      "source": [
        "#Removing the defaulter from state\n",
        "i = INA[INA['state']=='IN'].index\n",
        "INA.drop(i,inplace=True)"
      ],
      "execution_count": null,
      "outputs": []
    },
    {
      "cell_type": "code",
      "metadata": {
        "id": "JWemcAprYFp1",
        "colab_type": "code",
        "colab": {
          "base_uri": "https://localhost:8080/",
          "height": 895
        },
        "outputId": "7a842c7e-cbfb-4449-bce1-027da40f83a4"
      },
      "source": [
        "fig, ax = plt.subplots()\n",
        "fig.set_figheight(15)\n",
        "fig.set_figwidth(15)\n",
        "plt.xlabel('state')\n",
        "plt.ylabel('population')\n",
        "ax.bar(INA['state'],INA['population'])\n",
        "labels = ax.get_xticklabels()\n",
        "plt.setp(labels, rotation=90, horizontalalignment='right')\n",
        "plt.show()"
      ],
      "execution_count": null,
      "outputs": [
        {
          "output_type": "display_data",
          "data": {
            "image/png": "[encoded data removed]",
            "text/plain": [
              "<Figure size 1080x1080 with 1 Axes>"
            ]
          },
          "metadata": {
            "tags": [],
            "needs_background": "light"
          }
        }
      ]
    },
    {
      "cell_type": "markdown",
      "metadata": {
        "id": "rQ2_1r-fYRgh",
        "colab_type": "text"
      },
      "source": [
        "\n",
        "\n",
        "*   UP has maximum population\n",
        "\n",
        "\n"
      ]
    },
    {
      "cell_type": "markdown",
      "metadata": {
        "id": "EU-iWN4EuaAA",
        "colab_type": "text"
      },
      "source": [
        "#State v/s Total beds"
      ]
    },
    {
      "cell_type": "code",
      "metadata": {
        "id": "8W0JEj04emGI",
        "colab_type": "code",
        "colab": {
          "base_uri": "https://localhost:8080/",
          "height": 895
        },
        "outputId": "d2d550a8-3832-449d-e53b-34dddc162d69"
      },
      "source": [
        "fig, ax = plt.subplots(figsize=(15,15))\n",
        "\n",
        "plt.xlabel('state')\n",
        "plt.ylabel('total beds')\n",
        "ax.bar(INA['state'],INA['total beds'])\n",
        "labels = ax.get_xticklabels()\n",
        "plt.setp(labels, rotation=90, horizontalalignment='right')\n",
        "plt.show()"
      ],
      "execution_count": null,
      "outputs": [
        {
          "output_type": "display_data",
          "data": {
            "image/png": "[encoded data removed]",
            "text/plain": [
              "<Figure size 1080x1080 with 1 Axes>"
            ]
          },
          "metadata": {
            "tags": [],
            "needs_background": "light"
          }
        }
      ]
    },
    {
      "cell_type": "markdown",
      "metadata": {
        "id": "9sSy_lB8aEGS",
        "colab_type": "text"
      },
      "source": [
        "* West Bengal has maximum no of total beds over the population\n",
        "*Similarly,Tamil Nadu and Uttar Pradesh has sufficient no of beds over the population."
      ]
    },
    {
      "cell_type": "markdown",
      "metadata": {
        "id": "mghemTy-bM4h",
        "colab_type": "text"
      },
      "source": [
        "#Population V/s Total beds"
      ]
    },
    {
      "cell_type": "code",
      "metadata": {
        "id": "xDbFh6AusthF",
        "colab_type": "code",
        "colab": {
          "base_uri": "https://localhost:8080/",
          "height": 621
        },
        "outputId": "a2c617a4-b330-447b-bcfd-196f7e5a4169"
      },
      "source": [
        "fig,ax = plt.subplots(figsize=(10,10))\n",
        "ax.scatter(INA['population'],INA['total beds'])\n",
        "plt.xlabel('Population')\n",
        "plt.ylabel('total beds')\n",
        "plt.title('population v/s total beds')\n",
        "plt.show()"
      ],
      "execution_count": null,
      "outputs": [
        {
          "output_type": "display_data",
          "data": {
            "image/png": "[encoded data removed]",
            "text/plain": [
              "<Figure size 720x720 with 1 Axes>"
            ]
          },
          "metadata": {
            "tags": [],
            "needs_background": "light"
          }
        }
      ]
    },
    {
      "cell_type": "markdown",
      "metadata": {
        "id": "joYjPAVGb7No",
        "colab_type": "text"
      },
      "source": [
        "\n",
        "\n",
        "*   Generally , there is kind of linear relationship between total beds and population, except few points which has more or less no. of beds w.r.t population\n",
        "\n",
        "* The overall graph shows that , almost all states has sufficient no of beds , except fwe states.\n",
        "\n",
        "\n"
      ]
    },
    {
      "cell_type": "markdown",
      "metadata": {
        "id": "Rq-cV7pTe_u4",
        "colab_type": "text"
      },
      "source": [
        "#USA data Analysis"
      ]
    },
    {
      "cell_type": "code",
      "metadata": {
        "id": "3KeWb6OhtHu7",
        "colab_type": "code",
        "colab": {
          "base_uri": "https://localhost:8080/",
          "height": 293
        },
        "outputId": "1b5e46f6-689d-4b8a-b88d-612da9325ca7"
      },
      "source": [
        "USA = pd.read_csv('hospital_beds_USA_v1.csv')\n",
        "USA.head()"
      ],
      "execution_count": null,
      "outputs": [
        {
          "output_type": "execute_result",
          "data": {
            "text/html": [
              "<div>\n",
              "<style scoped>\n",
              "    .dataframe tbody tr th:only-of-type {\n",
              "        vertical-align: middle;\n",
              "    }\n",
              "\n",
              "    .dataframe tbody tr th {\n",
              "        vertical-align: top;\n",
              "    }\n",
              "\n",
              "    .dataframe thead th {\n",
              "        text-align: right;\n",
              "    }\n",
              "</style>\n",
              "<table border=\"1\" class=\"dataframe\">\n",
              "  <thead>\n",
              "    <tr style=\"text-align: right;\">\n",
              "      <th></th>\n",
              "      <th>country</th>\n",
              "      <th>state</th>\n",
              "      <th>county</th>\n",
              "      <th>lat</th>\n",
              "      <th>lng</th>\n",
              "      <th>type</th>\n",
              "      <th>measure</th>\n",
              "      <th>beds</th>\n",
              "      <th>population</th>\n",
              "      <th>year</th>\n",
              "      <th>source</th>\n",
              "      <th>source_url</th>\n",
              "    </tr>\n",
              "  </thead>\n",
              "  <tbody>\n",
              "    <tr>\n",
              "      <th>0</th>\n",
              "      <td>US</td>\n",
              "      <td>AK</td>\n",
              "      <td>aleutians east</td>\n",
              "      <td>63.588753</td>\n",
              "      <td>-154.493062</td>\n",
              "      <td>ICU</td>\n",
              "      <td>1000HAB</td>\n",
              "      <td>0.000000</td>\n",
              "      <td>3338</td>\n",
              "      <td>2019</td>\n",
              "      <td>khn</td>\n",
              "      <td>https://khn.org/news/as-coronavirus-spreads-wi...</td>\n",
              "    </tr>\n",
              "    <tr>\n",
              "      <th>1</th>\n",
              "      <td>US</td>\n",
              "      <td>AK</td>\n",
              "      <td>aleutians west</td>\n",
              "      <td>63.588753</td>\n",
              "      <td>-154.493062</td>\n",
              "      <td>ICU</td>\n",
              "      <td>1000HAB</td>\n",
              "      <td>0.000000</td>\n",
              "      <td>5784</td>\n",
              "      <td>2019</td>\n",
              "      <td>khn</td>\n",
              "      <td>https://khn.org/news/as-coronavirus-spreads-wi...</td>\n",
              "    </tr>\n",
              "    <tr>\n",
              "      <th>2</th>\n",
              "      <td>US</td>\n",
              "      <td>AK</td>\n",
              "      <td>anchorage</td>\n",
              "      <td>63.588753</td>\n",
              "      <td>-154.493062</td>\n",
              "      <td>ACUTE</td>\n",
              "      <td>1000HAB</td>\n",
              "      <td>2.182916</td>\n",
              "      <td>298225</td>\n",
              "      <td>2018</td>\n",
              "      <td>arcgis</td>\n",
              "      <td>https://services1.arcgis.com/Hp6G80Pky0om7QvQ/...</td>\n",
              "    </tr>\n",
              "    <tr>\n",
              "      <th>3</th>\n",
              "      <td>US</td>\n",
              "      <td>AK</td>\n",
              "      <td>anchorage</td>\n",
              "      <td>63.588753</td>\n",
              "      <td>-154.493062</td>\n",
              "      <td>ICU</td>\n",
              "      <td>1000HAB</td>\n",
              "      <td>0.244782</td>\n",
              "      <td>298225</td>\n",
              "      <td>2019</td>\n",
              "      <td>khn</td>\n",
              "      <td>https://khn.org/news/as-coronavirus-spreads-wi...</td>\n",
              "    </tr>\n",
              "    <tr>\n",
              "      <th>4</th>\n",
              "      <td>US</td>\n",
              "      <td>AK</td>\n",
              "      <td>anchorage</td>\n",
              "      <td>63.588753</td>\n",
              "      <td>-154.493062</td>\n",
              "      <td>OTHER</td>\n",
              "      <td>1000HAB</td>\n",
              "      <td>0.191131</td>\n",
              "      <td>298225</td>\n",
              "      <td>2019</td>\n",
              "      <td>arcgis</td>\n",
              "      <td>https://services1.arcgis.com/Hp6G80Pky0om7QvQ/...</td>\n",
              "    </tr>\n",
              "  </tbody>\n",
              "</table>\n",
              "</div>"
            ],
            "text/plain": [
              "  country state  ...  source                                         source_url\n",
              "0      US    AK  ...     khn  https://khn.org/news/as-coronavirus-spreads-wi...\n",
              "1      US    AK  ...     khn  https://khn.org/news/as-coronavirus-spreads-wi...\n",
              "2      US    AK  ...  arcgis  https://services1.arcgis.com/Hp6G80Pky0om7QvQ/...\n",
              "3      US    AK  ...     khn  https://khn.org/news/as-coronavirus-spreads-wi...\n",
              "4      US    AK  ...  arcgis  https://services1.arcgis.com/Hp6G80Pky0om7QvQ/...\n",
              "\n",
              "[5 rows x 12 columns]"
            ]
          },
          "metadata": {
            "tags": []
          },
          "execution_count": 16
        }
      ]
    },
    {
      "cell_type": "markdown",
      "metadata": {
        "id": "exkLxShShIkQ",
        "colab_type": "text"
      },
      "source": [
        "#Removing Unwanted cells from the dataset"
      ]
    },
    {
      "cell_type": "code",
      "metadata": {
        "id": "-c9nZ_AfgT-U",
        "colab_type": "code",
        "colab": {}
      },
      "source": [
        "USA.drop(columns=['source_url','source','lng','lat','year'] ,inplace=True)"
      ],
      "execution_count": null,
      "outputs": []
    },
    {
      "cell_type": "code",
      "metadata": {
        "id": "iEW8k-Dqg5mv",
        "colab_type": "code",
        "colab": {
          "base_uri": "https://localhost:8080/",
          "height": 206
        },
        "outputId": "71ae9e92-dab3-4758-9562-27a5d849f524"
      },
      "source": [
        "USA.head()"
      ],
      "execution_count": null,
      "outputs": [
        {
          "output_type": "execute_result",
          "data": {
            "text/html": [
              "<div>\n",
              "<style scoped>\n",
              "    .dataframe tbody tr th:only-of-type {\n",
              "        vertical-align: middle;\n",
              "    }\n",
              "\n",
              "    .dataframe tbody tr th {\n",
              "        vertical-align: top;\n",
              "    }\n",
              "\n",
              "    .dataframe thead th {\n",
              "        text-align: right;\n",
              "    }\n",
              "</style>\n",
              "<table border=\"1\" class=\"dataframe\">\n",
              "  <thead>\n",
              "    <tr style=\"text-align: right;\">\n",
              "      <th></th>\n",
              "      <th>country</th>\n",
              "      <th>state</th>\n",
              "      <th>county</th>\n",
              "      <th>type</th>\n",
              "      <th>measure</th>\n",
              "      <th>beds</th>\n",
              "      <th>population</th>\n",
              "    </tr>\n",
              "  </thead>\n",
              "  <tbody>\n",
              "    <tr>\n",
              "      <th>0</th>\n",
              "      <td>US</td>\n",
              "      <td>AK</td>\n",
              "      <td>aleutians east</td>\n",
              "      <td>ICU</td>\n",
              "      <td>1000HAB</td>\n",
              "      <td>0.000000</td>\n",
              "      <td>3338</td>\n",
              "    </tr>\n",
              "    <tr>\n",
              "      <th>1</th>\n",
              "      <td>US</td>\n",
              "      <td>AK</td>\n",
              "      <td>aleutians west</td>\n",
              "      <td>ICU</td>\n",
              "      <td>1000HAB</td>\n",
              "      <td>0.000000</td>\n",
              "      <td>5784</td>\n",
              "    </tr>\n",
              "    <tr>\n",
              "      <th>2</th>\n",
              "      <td>US</td>\n",
              "      <td>AK</td>\n",
              "      <td>anchorage</td>\n",
              "      <td>ACUTE</td>\n",
              "      <td>1000HAB</td>\n",
              "      <td>2.182916</td>\n",
              "      <td>298225</td>\n",
              "    </tr>\n",
              "    <tr>\n",
              "      <th>3</th>\n",
              "      <td>US</td>\n",
              "      <td>AK</td>\n",
              "      <td>anchorage</td>\n",
              "      <td>ICU</td>\n",
              "      <td>1000HAB</td>\n",
              "      <td>0.244782</td>\n",
              "      <td>298225</td>\n",
              "    </tr>\n",
              "    <tr>\n",
              "      <th>4</th>\n",
              "      <td>US</td>\n",
              "      <td>AK</td>\n",
              "      <td>anchorage</td>\n",
              "      <td>OTHER</td>\n",
              "      <td>1000HAB</td>\n",
              "      <td>0.191131</td>\n",
              "      <td>298225</td>\n",
              "    </tr>\n",
              "  </tbody>\n",
              "</table>\n",
              "</div>"
            ],
            "text/plain": [
              "  country state          county   type  measure      beds  population\n",
              "0      US    AK  aleutians east    ICU  1000HAB  0.000000        3338\n",
              "1      US    AK  aleutians west    ICU  1000HAB  0.000000        5784\n",
              "2      US    AK       anchorage  ACUTE  1000HAB  2.182916      298225\n",
              "3      US    AK       anchorage    ICU  1000HAB  0.244782      298225\n",
              "4      US    AK       anchorage  OTHER  1000HAB  0.191131      298225"
            ]
          },
          "metadata": {
            "tags": []
          },
          "execution_count": 18
        }
      ]
    },
    {
      "cell_type": "code",
      "metadata": {
        "id": "T8fPyOeNh_av",
        "colab_type": "code",
        "colab": {
          "base_uri": "https://localhost:8080/",
          "height": 165
        },
        "outputId": "010a7263-5427-4c77-edd0-2bd2a189e67c"
      },
      "source": [
        "#finding out the missing value\n",
        "USA.isnull().sum()"
      ],
      "execution_count": null,
      "outputs": [
        {
          "output_type": "execute_result",
          "data": {
            "text/plain": [
              "country       0\n",
              "state         0\n",
              "county        0\n",
              "type          0\n",
              "measure       0\n",
              "beds          0\n",
              "population    0\n",
              "dtype: int64"
            ]
          },
          "metadata": {
            "tags": []
          },
          "execution_count": 19
        }
      ]
    },
    {
      "cell_type": "markdown",
      "metadata": {
        "id": "-NQ3f2VriI_M",
        "colab_type": "text"
      },
      "source": [
        "*There is no missing value in the dataset"
      ]
    },
    {
      "cell_type": "markdown",
      "metadata": {
        "id": "KiEUWTPzhXkK",
        "colab_type": "text"
      },
      "source": [
        "#Total no of beds\n",
        "\n",
        "total beds = USA['beds'] * USA['population']"
      ]
    },
    {
      "cell_type": "code",
      "metadata": {
        "id": "0w5WOsdahF2C",
        "colab_type": "code",
        "colab": {}
      },
      "source": [
        "USA['total beds'] = USA['beds'] * USA['population']"
      ],
      "execution_count": null,
      "outputs": []
    },
    {
      "cell_type": "code",
      "metadata": {
        "id": "aNfQ4E47h0Ik",
        "colab_type": "code",
        "colab": {
          "base_uri": "https://localhost:8080/",
          "height": 239
        },
        "outputId": "194f927a-2668-481d-bf70-dc74bb586d72"
      },
      "source": [
        "USA['total beds']"
      ],
      "execution_count": null,
      "outputs": [
        {
          "output_type": "execute_result",
          "data": {
            "text/plain": [
              "0            0.000000\n",
              "1            0.000000\n",
              "2       651000.124100\n",
              "3        73000.111950\n",
              "4        57000.042475\n",
              "            ...      \n",
              "5708     41999.993528\n",
              "5709      5999.996110\n",
              "5710    182999.995524\n",
              "5711     17999.999325\n",
              "5712     12000.002168\n",
              "Name: total beds, Length: 5713, dtype: float64"
            ]
          },
          "metadata": {
            "tags": []
          },
          "execution_count": 21
        }
      ]
    },
    {
      "cell_type": "markdown",
      "metadata": {
        "id": "nWFZLrO2kV3G",
        "colab_type": "text"
      },
      "source": [
        "#Droping the areas(rows) where avialable no. of beds is zero"
      ]
    },
    {
      "cell_type": "code",
      "metadata": {
        "id": "eU12za7Lh3RH",
        "colab_type": "code",
        "colab": {
          "base_uri": "https://localhost:8080/",
          "height": 35
        },
        "outputId": "4cdf6f51-3d5c-4e86-98d2-8ebded1493de"
      },
      "source": [
        "USA.drop(USA[USA['total beds']==0].index , inplace=True)\n",
        "USA.shape"
      ],
      "execution_count": null,
      "outputs": [
        {
          "output_type": "execute_result",
          "data": {
            "text/plain": [
              "(4695, 8)"
            ]
          },
          "metadata": {
            "tags": []
          },
          "execution_count": 22
        }
      ]
    },
    {
      "cell_type": "markdown",
      "metadata": {
        "id": "nEqtddv1n4WM",
        "colab_type": "text"
      },
      "source": [
        "#Data Exploration"
      ]
    },
    {
      "cell_type": "code",
      "metadata": {
        "id": "aV2-d84wnCxg",
        "colab_type": "code",
        "colab": {
          "base_uri": "https://localhost:8080/",
          "height": 183
        },
        "outputId": "3e2eaf17-150f-4642-ca27-e5e7bca84e9f"
      },
      "source": [
        "USA.dtypes"
      ],
      "execution_count": null,
      "outputs": [
        {
          "output_type": "execute_result",
          "data": {
            "text/plain": [
              "country        object\n",
              "state          object\n",
              "county         object\n",
              "type           object\n",
              "measure        object\n",
              "beds          float64\n",
              "population      int64\n",
              "total beds    float64\n",
              "dtype: object"
            ]
          },
          "metadata": {
            "tags": []
          },
          "execution_count": 23
        }
      ]
    },
    {
      "cell_type": "code",
      "metadata": {
        "id": "a7uGumrOoBQb",
        "colab_type": "code",
        "colab": {
          "base_uri": "https://localhost:8080/",
          "height": 278
        },
        "outputId": "b2bebaf1-d1b9-43c2-b33b-2b37198e550d"
      },
      "source": [
        "plt.hist(USA['total beds'], bins=50)\n",
        "plt.show()"
      ],
      "execution_count": null,
      "outputs": [
        {
          "output_type": "display_data",
          "data": {
            "image/png": "[encoded data removed]",
            "text/plain": [
              "<Figure size 432x288 with 1 Axes>"
            ]
          },
          "metadata": {
            "tags": [],
            "needs_background": "light"
          }
        }
      ]
    },
    {
      "cell_type": "code",
      "metadata": {
        "id": "95UaXdWfoSEB",
        "colab_type": "code",
        "colab": {
          "base_uri": "https://localhost:8080/",
          "height": 276
        },
        "outputId": "e06869eb-258e-4ab0-8707-d870b007215e"
      },
      "source": [
        "plt.boxplot(USA['total beds'])\n",
        "plt.show()"
      ],
      "execution_count": null,
      "outputs": [
        {
          "output_type": "display_data",
          "data": {
            "image/png": "[encoded data removed]",
            "text/plain": [
              "<Figure size 432x288 with 1 Axes>"
            ]
          },
          "metadata": {
            "tags": [],
            "needs_background": "light"
          }
        }
      ]
    },
    {
      "cell_type": "code",
      "metadata": {
        "id": "7Ezwv0SJoow7",
        "colab_type": "code",
        "colab": {
          "base_uri": "https://localhost:8080/",
          "height": 183
        },
        "outputId": "93232495-3e44-4183-a814-acbf39e16d27"
      },
      "source": [
        "USA['total beds'].describe()"
      ],
      "execution_count": null,
      "outputs": [
        {
          "output_type": "execute_result",
          "data": {
            "text/plain": [
              "count    4.695000e+03\n",
              "mean     2.272136e+05\n",
              "std      7.614668e+05\n",
              "min      1.000009e+03\n",
              "25%      2.499999e+04\n",
              "50%      5.000000e+04\n",
              "75%      1.540000e+05\n",
              "max      2.560600e+07\n",
              "Name: total beds, dtype: float64"
            ]
          },
          "metadata": {
            "tags": []
          },
          "execution_count": 26
        }
      ]
    },
    {
      "cell_type": "code",
      "metadata": {
        "id": "1fARnJCVseTB",
        "colab_type": "code",
        "colab": {
          "base_uri": "https://localhost:8080/",
          "height": 586
        },
        "outputId": "0c829741-a0a6-4eb5-8140-67672944a78d"
      },
      "source": [
        "# fig,ax = plt.subplots(figsize=(10,10))\n",
        "# ax.bar(USA['state'], USA['state'].value_counts())\n",
        "(USA['state'].value_counts()).plot(kind='bar',figsize=(20,10))"
      ],
      "execution_count": null,
      "outputs": [
        {
          "output_type": "execute_result",
          "data": {
            "text/plain": [
              "<matplotlib.axes._subplots.AxesSubplot at 0x7f398e8bf438>"
            ]
          },
          "metadata": {
            "tags": []
          },
          "execution_count": 27
        },
        {
          "output_type": "display_data",
          "data": {
            "image/png": "[encoded data removed]",
            "text/plain": [
              "<Figure size 1440x720 with 1 Axes>"
            ]
          },
          "metadata": {
            "tags": [],
            "needs_background": "light"
          }
        }
      ]
    },
    {
      "cell_type": "markdown",
      "metadata": {
        "id": "9aYUkx91vm5o",
        "colab_type": "text"
      },
      "source": [
        "* Above graph shows the analysis of state variable"
      ]
    },
    {
      "cell_type": "code",
      "metadata": {
        "id": "R-BywCokwFbh",
        "colab_type": "code",
        "colab": {
          "base_uri": "https://localhost:8080/",
          "height": 628
        },
        "outputId": "c1aa6d5a-7c04-4a42-d860-5ce2e9a84a26"
      },
      "source": [
        "(USA['type'].value_counts()).plot(kind='bar',figsize=(20,10))"
      ],
      "execution_count": null,
      "outputs": [
        {
          "output_type": "execute_result",
          "data": {
            "text/plain": [
              "<matplotlib.axes._subplots.AxesSubplot at 0x7f398e772588>"
            ]
          },
          "metadata": {
            "tags": []
          },
          "execution_count": 28
        },
        {
          "output_type": "display_data",
          "data": {
            "image/png": "[encoded data removed]",
            "text/plain": [
              "<Figure size 1440x720 with 1 Axes>"
            ]
          },
          "metadata": {
            "tags": [],
            "needs_background": "light"
          }
        }
      ]
    },
    {
      "cell_type": "markdown",
      "metadata": {
        "id": "OSOOcGbKwSE7",
        "colab_type": "text"
      },
      "source": [
        "* Above graph shows the  analysis of Type categorical variable"
      ]
    },
    {
      "cell_type": "markdown",
      "metadata": {
        "id": "9t66uEmbriDH",
        "colab_type": "text"
      },
      "source": [
        "# State v/s Population"
      ]
    },
    {
      "cell_type": "code",
      "metadata": {
        "id": "m9cEh5gYrTMb",
        "colab_type": "code",
        "colab": {
          "base_uri": "https://localhost:8080/",
          "height": 895
        },
        "outputId": "94b621c0-3523-4d60-b72f-3e45fb9c9228"
      },
      "source": [
        "fig, ax = plt.subplots()\n",
        "fig.set_figheight(15)\n",
        "fig.set_figwidth(15)\n",
        "plt.xlabel('state')\n",
        "plt.ylabel('population')\n",
        "ax.bar(USA['state'],USA['population'])\n",
        "labels = ax.get_xticklabels()\n",
        "plt.setp(labels, rotation=90, horizontalalignment='right')\n",
        "plt.show()"
      ],
      "execution_count": null,
      "outputs": [
        {
          "output_type": "display_data",
          "data": {
            "image/png": "[encoded data removed]",
            "text/plain": [
              "<Figure size 1080x1080 with 1 Axes>"
            ]
          },
          "metadata": {
            "tags": [],
            "needs_background": "light"
          }
        }
      ]
    },
    {
      "cell_type": "markdown",
      "metadata": {
        "id": "T9D33elKxY3o",
        "colab_type": "text"
      },
      "source": [
        "#Type v/s Total no. of beds"
      ]
    },
    {
      "cell_type": "code",
      "metadata": {
        "id": "9UsQdmVssEZJ",
        "colab_type": "code",
        "colab": {
          "base_uri": "https://localhost:8080/",
          "height": 942
        },
        "outputId": "d685f95f-bfc2-4a33-a077-0350fd999e53"
      },
      "source": [
        "fig, ax = plt.subplots()\n",
        "fig.set_figheight(15)\n",
        "fig.set_figwidth(15)\n",
        "plt.xlabel('state')\n",
        "plt.ylabel('population')\n",
        "ax.bar(USA['state'],USA['population'])\n",
        "labels = ax.get_xticklabels()\n",
        "plt.setp(labels, rotation=90, horizontalalignment='right')\n",
        "plt.show()"
      ],
      "execution_count": null,
      "outputs": [
        {
          "output_type": "display_data",
          "data": {
            "image/png": "[encoded data removed]",
            "text/plain": [
              "<Figure size 1080x1080 with 1 Axes>"
            ]
          },
          "metadata": {
            "tags": [],
            "needs_background": "light"
          }
        }
      ]
    },
    {
      "cell_type": "markdown",
      "metadata": {
        "id": "ASexsZ_rfM_W",
        "colab_type": "text"
      },
      "source": [
        "* Maximum of avialable beds are of 'ACUTE' type\n",
        "* Very Few ICU beds are avialable"
      ]
    },
    {
      "cell_type": "markdown",
      "metadata": {
        "id": "u7wCXnSycYG7",
        "colab_type": "text"
      },
      "source": [
        "#state v/s Total no of beds"
      ]
    },
    {
      "cell_type": "code",
      "metadata": {
        "id": "aSg3OogPcXnh",
        "colab_type": "code",
        "colab": {
          "base_uri": "https://localhost:8080/",
          "height": 895
        },
        "outputId": "95d5a6fc-4c68-4de7-9060-af753fc838ec"
      },
      "source": [
        "fig, ax = plt.subplots()\n",
        "fig.set_figheight(15)\n",
        "fig.set_figwidth(15)\n",
        "plt.xlabel('state')\n",
        "plt.ylabel('population')\n",
        "ax.bar(USA['state'],USA['population'])\n",
        "labels = ax.get_xticklabels()\n",
        "plt.setp(labels, rotation=90, horizontalalignment='right')\n",
        "plt.show()"
      ],
      "execution_count": null,
      "outputs": [
        {
          "output_type": "display_data",
          "data": {
            "image/png": "[encoded data removed]",
            "text/plain": [
              "<Figure size 1080x1080 with 1 Axes>"
            ]
          },
          "metadata": {
            "tags": [],
            "needs_background": "light"
          }
        }
      ]
    },
    {
      "cell_type": "markdown",
      "metadata": {
        "id": "cODGCO4-f1sG",
        "colab_type": "text"
      },
      "source": [
        "* 'CA' has maximum number of beds avialable for their population.\n",
        "* variation of avialable no. of beds w.r.t state is given in the above graph\n"
      ]
    },
    {
      "cell_type": "markdown",
      "metadata": {
        "id": "ShzWjVnldsIT",
        "colab_type": "text"
      },
      "source": [
        "#Population v/s No. of beds"
      ]
    },
    {
      "cell_type": "code",
      "metadata": {
        "id": "akk2AgeMxSna",
        "colab_type": "code",
        "colab": {
          "base_uri": "https://localhost:8080/",
          "height": 888
        },
        "outputId": "909088a6-0626-429b-850a-e0ddb1b67c88"
      },
      "source": [
        "fig, ax = plt.subplots(figsize=(15,15))\n",
        "plt.xlabel('Population')\n",
        "plt.ylabel('no. of beds')\n",
        "ax.scatter(USA['population'] , USA['total beds'])\n",
        "plt.show()\n"
      ],
      "execution_count": null,
      "outputs": [
        {
          "output_type": "display_data",
          "data": {
            "image/png": "[encoded data removed]",
            "text/plain": [
              "<Figure size 1080x1080 with 1 Axes>"
            ]
          },
          "metadata": {
            "tags": [],
            "needs_background": "light"
          }
        }
      ]
    },
    {
      "cell_type": "markdown",
      "metadata": {
        "id": "ZLhyIdFJhteq",
        "colab_type": "text"
      },
      "source": [
        "* As population increases ,avialable no of beds also increases.\n",
        "* For the state having population 20 to 40 Million  avialable no of beds are very less than expected."
      ]
    },
    {
      "cell_type": "markdown",
      "metadata": {
        "id": "cz6WHR8ZnkkY",
        "colab_type": "text"
      },
      "source": [
        "#Comparison between two countries"
      ]
    },
    {
      "cell_type": "code",
      "metadata": {
        "id": "_iUAa8mnd4i-",
        "colab_type": "code",
        "colab": {
          "base_uri": "https://localhost:8080/",
          "height": 35
        },
        "outputId": "c3851514-8a41-47f5-c4ae-13046ea168ad"
      },
      "source": [
        "#Avarage population\n",
        "x=USA['population'].mean()\n",
        "\n",
        "y=INA['population'].mean()\n",
        "print(x,y)\n"
      ],
      "execution_count": null,
      "outputs": [
        {
          "output_type": "stream",
          "text": [
            "204881.86645367413 35013909.777777776\n"
          ],
          "name": "stdout"
        }
      ]
    },
    {
      "cell_type": "code",
      "metadata": {
        "id": "8WFKMBBSoD9U",
        "colab_type": "code",
        "colab": {
          "base_uri": "https://localhost:8080/",
          "height": 295
        },
        "outputId": "ae5e03c6-8499-4bdd-9d3c-7f1cb1f2c025"
      },
      "source": [
        "plt.bar(['USA','INA'] ,[x,y])\n",
        "plt.xlabel('Country')\n",
        "plt.ylabel('Avg. population')\n",
        "plt.title('Avg population v/s country')\n",
        "plt.show()"
      ],
      "execution_count": null,
      "outputs": [
        {
          "output_type": "display_data",
          "data": {
            "image/png": "[encoded data removed]",
            "text/plain": [
              "<Figure size 432x288 with 1 Axes>"
            ]
          },
          "metadata": {
            "tags": [],
            "needs_background": "light"
          }
        }
      ]
    },
    {
      "cell_type": "markdown",
      "metadata": {
        "id": "Quz9-61zreAY",
        "colab_type": "text"
      },
      "source": [
        "* Avarage population of the INA is much more greater than USA"
      ]
    },
    {
      "cell_type": "code",
      "metadata": {
        "id": "kTcB3JdjrRrZ",
        "colab_type": "code",
        "colab": {
          "base_uri": "https://localhost:8080/",
          "height": 295
        },
        "outputId": "8244385d-2891-44e7-8927-dc58a8ce3ed2"
      },
      "source": [
        "x1 = USA['total beds'].mean()\n",
        "y1 = INA['total beds'].mean()\n",
        "plt.bar(['USA','INA'],[x1,y1])\n",
        "plt.xlabel('Country')\n",
        "plt.ylabel('Total no. of beds')\n",
        "plt.title('Total no. of population v/s country')\n",
        "plt.show()"
      ],
      "execution_count": null,
      "outputs": [
        {
          "output_type": "display_data",
          "data": {
            "image/png": "[encoded data removed]",
            "text/plain": [
              "<Figure size 432x288 with 1 Axes>"
            ]
          },
          "metadata": {
            "tags": [],
            "needs_background": "light"
          }
        }
      ]
    },
    {
      "cell_type": "markdown",
      "metadata": {
        "id": "ddy7XzAxtGjx",
        "colab_type": "text"
      },
      "source": [
        "* As population of India is grater than USA , average no of avialable beds in case of India is greater than USA."
      ]
    },
    {
      "cell_type": "code",
      "metadata": {
        "id": "_lsPnvsnsJkV",
        "colab_type": "code",
        "colab": {
          "base_uri": "https://localhost:8080/",
          "height": 591
        },
        "outputId": "5a0f21f9-e688-40a8-f354-31056deda5ad"
      },
      "source": [
        "fig,axs = plt.subplots(1,2)\n",
        "fig.set_figheight(10)\n",
        "fig.set_figwidth(20)\n",
        "\n",
        "axs[0].scatter(USA['population'],USA['total beds'])\n",
        "\n",
        "axs[0].set_title('USA')\n",
        "axs[1].scatter(INA['population'],INA['total beds'])\n",
        "axs[1].set_title('INA')\n",
        "plt.show()"
      ],
      "execution_count": null,
      "outputs": [
        {
          "output_type": "display_data",
          "data": {
            "image/png": "[encoded data removed]",
            "text/plain": [
              "<Figure size 1440x720 with 2 Axes>"
            ]
          },
          "metadata": {
            "tags": [],
            "needs_background": "light"
          }
        }
      ]
    },
    {
      "cell_type": "markdown",
      "metadata": {
        "id": "8aE6KuJHxMj5",
        "colab_type": "text"
      },
      "source": [
        "* Above graph diaplays the comparison between the two countries in case of total no. of available beds over the population. "
      ]
    },
    {
      "cell_type": "code",
      "metadata": {
        "id": "VwJmNp83u749",
        "colab_type": "code",
        "colab": {}
      },
      "source": [
        ""
      ],
      "execution_count": null,
      "outputs": []
    }
  ]
}