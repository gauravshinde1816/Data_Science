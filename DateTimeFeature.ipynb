{
  "nbformat": 4,
  "nbformat_minor": 0,
  "metadata": {
    "colab": {
      "name": "DateTimeFeature.ipynb",
      "provenance": []
    },
    "kernelspec": {
      "name": "python3",
      "display_name": "Python 3"
    }
  },
  "cells": [
    {
      "cell_type": "code",
      "metadata": {
        "id": "t8wEwyEBnune",
        "colab_type": "code",
        "colab": {}
      },
      "source": [
        "import pandas as pd\n",
        "import numpy as np\n",
        "import matplotlib.pyplot as plt\n",
        "%matplotlib inline"
      ],
      "execution_count": null,
      "outputs": []
    },
    {
      "cell_type": "code",
      "metadata": {
        "id": "Wc-AdgSGoDUA",
        "colab_type": "code",
        "colab": {}
      },
      "source": [
        "data = pd.read_csv('No2 dataset.csv')"
      ],
      "execution_count": null,
      "outputs": []
    },
    {
      "cell_type": "code",
      "metadata": {
        "id": "R3bydT0soI24",
        "colab_type": "code",
        "colab": {
          "base_uri": "https://localhost:8080/",
          "height": 206
        },
        "outputId": "da2cb26a-94c6-4071-8045-038ee643da25"
      },
      "source": [
        "data.head()"
      ],
      "execution_count": null,
      "outputs": [
        {
          "output_type": "execute_result",
          "data": {
            "text/html": [
              "<div>\n",
              "<style scoped>\n",
              "    .dataframe tbody tr th:only-of-type {\n",
              "        vertical-align: middle;\n",
              "    }\n",
              "\n",
              "    .dataframe tbody tr th {\n",
              "        vertical-align: top;\n",
              "    }\n",
              "\n",
              "    .dataframe thead th {\n",
              "        text-align: right;\n",
              "    }\n",
              "</style>\n",
              "<table border=\"1\" class=\"dataframe\">\n",
              "  <thead>\n",
              "    <tr style=\"text-align: right;\">\n",
              "      <th></th>\n",
              "      <th>Date_Time</th>\n",
              "      <th>NO2(GT)</th>\n",
              "    </tr>\n",
              "  </thead>\n",
              "  <tbody>\n",
              "    <tr>\n",
              "      <th>0</th>\n",
              "      <td>10/03/2004 18.00.00</td>\n",
              "      <td>166</td>\n",
              "    </tr>\n",
              "    <tr>\n",
              "      <th>1</th>\n",
              "      <td>10/03/2004 19.00.00</td>\n",
              "      <td>1174</td>\n",
              "    </tr>\n",
              "    <tr>\n",
              "      <th>2</th>\n",
              "      <td>10/03/2004 20.00.00</td>\n",
              "      <td>131</td>\n",
              "    </tr>\n",
              "    <tr>\n",
              "      <th>3</th>\n",
              "      <td>10/03/2004 21.00.00</td>\n",
              "      <td>172</td>\n",
              "    </tr>\n",
              "    <tr>\n",
              "      <th>4</th>\n",
              "      <td>10/03/2004 22.00.00</td>\n",
              "      <td>131</td>\n",
              "    </tr>\n",
              "  </tbody>\n",
              "</table>\n",
              "</div>"
            ],
            "text/plain": [
              "             Date_Time  NO2(GT)\n",
              "0  10/03/2004 18.00.00      166\n",
              "1  10/03/2004 19.00.00     1174\n",
              "2  10/03/2004 20.00.00      131\n",
              "3  10/03/2004 21.00.00      172\n",
              "4  10/03/2004 22.00.00      131"
            ]
          },
          "metadata": {
            "tags": []
          },
          "execution_count": 4
        }
      ]
    },
    {
      "cell_type": "code",
      "metadata": {
        "id": "ksD76FnYoKgS",
        "colab_type": "code",
        "colab": {
          "base_uri": "https://localhost:8080/",
          "height": 72
        },
        "outputId": "ee231d65-049b-4f66-b8af-c1fa8db4821d"
      },
      "source": [
        "data.dtypes"
      ],
      "execution_count": null,
      "outputs": [
        {
          "output_type": "execute_result",
          "data": {
            "text/plain": [
              "Date_Time    object\n",
              "NO2(GT)       int64\n",
              "dtype: object"
            ]
          },
          "metadata": {
            "tags": []
          },
          "execution_count": 5
        }
      ]
    },
    {
      "cell_type": "code",
      "metadata": {
        "id": "wxssyZmsoOq9",
        "colab_type": "code",
        "colab": {
          "base_uri": "https://localhost:8080/",
          "height": 35
        },
        "outputId": "158061ed-0ac1-452c-9e60-c6e250005ca4"
      },
      "source": [
        "data['Date_Time'].dtypes"
      ],
      "execution_count": null,
      "outputs": [
        {
          "output_type": "execute_result",
          "data": {
            "text/plain": [
              "dtype('O')"
            ]
          },
          "metadata": {
            "tags": []
          },
          "execution_count": 6
        }
      ]
    },
    {
      "cell_type": "code",
      "metadata": {
        "id": "y_Lp2atqoWby",
        "colab_type": "code",
        "colab": {
          "base_uri": "https://localhost:8080/",
          "height": 35
        },
        "outputId": "ceeb6b85-abdf-4d06-ba29-31a7acac215d"
      },
      "source": [
        "data['Date_Time'].max() , data['Date_Time'].min()"
      ],
      "execution_count": null,
      "outputs": [
        {
          "output_type": "execute_result",
          "data": {
            "text/plain": [
              "('31/08/2004 23.00.00', '01/04/2004 00.00.00')"
            ]
          },
          "metadata": {
            "tags": []
          },
          "execution_count": 8
        }
      ]
    },
    {
      "cell_type": "markdown",
      "metadata": {
        "id": "RcSW9KbYmG9k",
        "colab_type": "text"
      },
      "source": [
        "#Coverting to the specific format"
      ]
    },
    {
      "cell_type": "code",
      "metadata": {
        "id": "cJurvCZrlGJv",
        "colab_type": "code",
        "colab": {}
      },
      "source": [
        "data['Date_Time']= pd.to_datetime(data['Date_Time'] , format='%d/%m/%Y %H.%M.%S')"
      ],
      "execution_count": null,
      "outputs": []
    },
    {
      "cell_type": "code",
      "metadata": {
        "id": "qG47Fl_llsuV",
        "colab_type": "code",
        "colab": {
          "base_uri": "https://localhost:8080/",
          "height": 35
        },
        "outputId": "4251fcbd-e875-41ac-a15e-a97a3bf9d05a"
      },
      "source": [
        "data['Date_Time'].dtypes\n"
      ],
      "execution_count": null,
      "outputs": [
        {
          "output_type": "execute_result",
          "data": {
            "text/plain": [
              "dtype('<M8[ns]')"
            ]
          },
          "metadata": {
            "tags": []
          },
          "execution_count": 13
        }
      ]
    },
    {
      "cell_type": "code",
      "metadata": {
        "id": "06xRphammAD-",
        "colab_type": "code",
        "colab": {
          "base_uri": "https://localhost:8080/",
          "height": 35
        },
        "outputId": "41a7fa40-2571-4edb-8358-6db1f7b77658"
      },
      "source": [
        "data['Date_Time'].max() , data['Date_Time'].min()"
      ],
      "execution_count": null,
      "outputs": [
        {
          "output_type": "execute_result",
          "data": {
            "text/plain": [
              "(Timestamp('2004-09-24 02:00:00'), Timestamp('2004-03-10 18:00:00'))"
            ]
          },
          "metadata": {
            "tags": []
          },
          "execution_count": 14
        }
      ]
    },
    {
      "cell_type": "markdown",
      "metadata": {
        "id": "WZpXcsjtmerS",
        "colab_type": "text"
      },
      "source": [
        "#Extract hour and minute"
      ]
    },
    {
      "cell_type": "code",
      "metadata": {
        "id": "eKkZW6lBmX39",
        "colab_type": "code",
        "colab": {
          "base_uri": "https://localhost:8080/",
          "height": 128
        },
        "outputId": "1ab99551-6862-475b-aadb-00677085f0da"
      },
      "source": [
        "data['Date_Time'].dt.hour.head()"
      ],
      "execution_count": null,
      "outputs": [
        {
          "output_type": "execute_result",
          "data": {
            "text/plain": [
              "0    18\n",
              "1    19\n",
              "2    20\n",
              "3    21\n",
              "4    22\n",
              "Name: Date_Time, dtype: int64"
            ]
          },
          "metadata": {
            "tags": []
          },
          "execution_count": 15
        }
      ]
    },
    {
      "cell_type": "code",
      "metadata": {
        "id": "pYQCSVgkmu78",
        "colab_type": "code",
        "colab": {
          "base_uri": "https://localhost:8080/",
          "height": 128
        },
        "outputId": "fcf56c88-88d4-4191-8ceb-2f4ce3b8d691"
      },
      "source": [
        "data['Date_Time'].dt.minute.head()"
      ],
      "execution_count": null,
      "outputs": [
        {
          "output_type": "execute_result",
          "data": {
            "text/plain": [
              "0    0\n",
              "1    0\n",
              "2    0\n",
              "3    0\n",
              "4    0\n",
              "Name: Date_Time, dtype: int64"
            ]
          },
          "metadata": {
            "tags": []
          },
          "execution_count": 17
        }
      ]
    },
    {
      "cell_type": "markdown",
      "metadata": {
        "id": "QWhbJ4k3nBXS",
        "colab_type": "text"
      },
      "source": [
        "#The day of week - Monday (0) to Sunday (6)"
      ]
    },
    {
      "cell_type": "code",
      "metadata": {
        "id": "ye6L7ai1m3El",
        "colab_type": "code",
        "colab": {
          "base_uri": "https://localhost:8080/",
          "height": 128
        },
        "outputId": "297dda16-c609-4e95-e7d2-96a97072b7a7"
      },
      "source": [
        "data['Date_Time'].dt.dayofweek.head()"
      ],
      "execution_count": null,
      "outputs": [
        {
          "output_type": "execute_result",
          "data": {
            "text/plain": [
              "0    2\n",
              "1    2\n",
              "2    2\n",
              "3    2\n",
              "4    2\n",
              "Name: Date_Time, dtype: int64"
            ]
          },
          "metadata": {
            "tags": []
          },
          "execution_count": 18
        }
      ]
    },
    {
      "cell_type": "markdown",
      "metadata": {
        "id": "wmMhzJb3nUn-",
        "colab_type": "text"
      },
      "source": [
        "#Extracting month"
      ]
    },
    {
      "cell_type": "code",
      "metadata": {
        "id": "j1-DvZhxnLVU",
        "colab_type": "code",
        "colab": {
          "base_uri": "https://localhost:8080/",
          "height": 128
        },
        "outputId": "1a7ebedc-1fa8-4747-b60b-e5ef0475206b"
      },
      "source": [
        "data['Date_Time'].dt.month.head()"
      ],
      "execution_count": null,
      "outputs": [
        {
          "output_type": "execute_result",
          "data": {
            "text/plain": [
              "0    3\n",
              "1    3\n",
              "2    3\n",
              "3    3\n",
              "4    3\n",
              "Name: Date_Time, dtype: int64"
            ]
          },
          "metadata": {
            "tags": []
          },
          "execution_count": 23
        }
      ]
    },
    {
      "cell_type": "code",
      "metadata": {
        "id": "aTLjKL8NnpFM",
        "colab_type": "code",
        "colab": {
          "base_uri": "https://localhost:8080/",
          "height": 128
        },
        "outputId": "28f83514-1898-4677-a442-6a0327d5db0d"
      },
      "source": [
        "#Checking the monthend\n",
        "data['Date_Time'].dt.is_month_end.head()"
      ],
      "execution_count": null,
      "outputs": [
        {
          "output_type": "execute_result",
          "data": {
            "text/plain": [
              "0    False\n",
              "1    False\n",
              "2    False\n",
              "3    False\n",
              "4    False\n",
              "Name: Date_Time, dtype: bool"
            ]
          },
          "metadata": {
            "tags": []
          },
          "execution_count": 24
        }
      ]
    },
    {
      "cell_type": "markdown",
      "metadata": {
        "id": "eQVKwJlIopqD",
        "colab_type": "text"
      },
      "source": [
        "#Putting all togather"
      ]
    },
    {
      "cell_type": "code",
      "metadata": {
        "id": "ZbRn0bGRoenF",
        "colab_type": "code",
        "colab": {}
      },
      "source": [
        "new_df = pd.DataFrame({\n",
        "    'year':data['Date_Time'].dt.year,\n",
        "    'month':data['Date_Time'].dt.month,\n",
        "    'days':data['Date_Time'].dt.day,\n",
        "    'hour':data['Date_Time'].dt.hour,\n",
        "    'minute':data['Date_Time'].dt.minute,\n",
        "    'dayofweek':data['Date_Time'].dt.dayofweek\n",
        "    \n",
        "})"
      ],
      "execution_count": null,
      "outputs": []
    },
    {
      "cell_type": "code",
      "metadata": {
        "id": "dR-WIYhxpnUC",
        "colab_type": "code",
        "colab": {
          "base_uri": "https://localhost:8080/",
          "height": 206
        },
        "outputId": "7e639797-16f9-44e1-a3f0-a9fd87a5e5d3"
      },
      "source": [
        "new_df.head()"
      ],
      "execution_count": null,
      "outputs": [
        {
          "output_type": "execute_result",
          "data": {
            "text/html": [
              "<div>\n",
              "<style scoped>\n",
              "    .dataframe tbody tr th:only-of-type {\n",
              "        vertical-align: middle;\n",
              "    }\n",
              "\n",
              "    .dataframe tbody tr th {\n",
              "        vertical-align: top;\n",
              "    }\n",
              "\n",
              "    .dataframe thead th {\n",
              "        text-align: right;\n",
              "    }\n",
              "</style>\n",
              "<table border=\"1\" class=\"dataframe\">\n",
              "  <thead>\n",
              "    <tr style=\"text-align: right;\">\n",
              "      <th></th>\n",
              "      <th>year</th>\n",
              "      <th>month</th>\n",
              "      <th>days</th>\n",
              "      <th>hour</th>\n",
              "      <th>minute</th>\n",
              "      <th>dayofweek</th>\n",
              "    </tr>\n",
              "  </thead>\n",
              "  <tbody>\n",
              "    <tr>\n",
              "      <th>0</th>\n",
              "      <td>2004</td>\n",
              "      <td>3</td>\n",
              "      <td>10</td>\n",
              "      <td>18</td>\n",
              "      <td>0</td>\n",
              "      <td>2</td>\n",
              "    </tr>\n",
              "    <tr>\n",
              "      <th>1</th>\n",
              "      <td>2004</td>\n",
              "      <td>3</td>\n",
              "      <td>10</td>\n",
              "      <td>19</td>\n",
              "      <td>0</td>\n",
              "      <td>2</td>\n",
              "    </tr>\n",
              "    <tr>\n",
              "      <th>2</th>\n",
              "      <td>2004</td>\n",
              "      <td>3</td>\n",
              "      <td>10</td>\n",
              "      <td>20</td>\n",
              "      <td>0</td>\n",
              "      <td>2</td>\n",
              "    </tr>\n",
              "    <tr>\n",
              "      <th>3</th>\n",
              "      <td>2004</td>\n",
              "      <td>3</td>\n",
              "      <td>10</td>\n",
              "      <td>21</td>\n",
              "      <td>0</td>\n",
              "      <td>2</td>\n",
              "    </tr>\n",
              "    <tr>\n",
              "      <th>4</th>\n",
              "      <td>2004</td>\n",
              "      <td>3</td>\n",
              "      <td>10</td>\n",
              "      <td>22</td>\n",
              "      <td>0</td>\n",
              "      <td>2</td>\n",
              "    </tr>\n",
              "  </tbody>\n",
              "</table>\n",
              "</div>"
            ],
            "text/plain": [
              "   year  month  days  hour  minute  dayofweek\n",
              "0  2004      3    10    18       0          2\n",
              "1  2004      3    10    19       0          2\n",
              "2  2004      3    10    20       0          2\n",
              "3  2004      3    10    21       0          2\n",
              "4  2004      3    10    22       0          2"
            ]
          },
          "metadata": {
            "tags": []
          },
          "execution_count": 26
        }
      ]
    },
    {
      "cell_type": "code",
      "metadata": {
        "id": "6KEL6dZdpqSI",
        "colab_type": "code",
        "colab": {}
      },
      "source": [
        "complete_data = pd.concat([data , new_df], axis=1)"
      ],
      "execution_count": null,
      "outputs": []
    },
    {
      "cell_type": "code",
      "metadata": {
        "id": "GkLH2Unrp5-M",
        "colab_type": "code",
        "colab": {
          "base_uri": "https://localhost:8080/",
          "height": 206
        },
        "outputId": "8f611749-a8d1-4745-89fb-1ff09380e4d6"
      },
      "source": [
        "complete_data.head()"
      ],
      "execution_count": null,
      "outputs": [
        {
          "output_type": "execute_result",
          "data": {
            "text/html": [
              "<div>\n",
              "<style scoped>\n",
              "    .dataframe tbody tr th:only-of-type {\n",
              "        vertical-align: middle;\n",
              "    }\n",
              "\n",
              "    .dataframe tbody tr th {\n",
              "        vertical-align: top;\n",
              "    }\n",
              "\n",
              "    .dataframe thead th {\n",
              "        text-align: right;\n",
              "    }\n",
              "</style>\n",
              "<table border=\"1\" class=\"dataframe\">\n",
              "  <thead>\n",
              "    <tr style=\"text-align: right;\">\n",
              "      <th></th>\n",
              "      <th>Date_Time</th>\n",
              "      <th>NO2(GT)</th>\n",
              "      <th>year</th>\n",
              "      <th>month</th>\n",
              "      <th>days</th>\n",
              "      <th>hour</th>\n",
              "      <th>minute</th>\n",
              "      <th>dayofweek</th>\n",
              "    </tr>\n",
              "  </thead>\n",
              "  <tbody>\n",
              "    <tr>\n",
              "      <th>0</th>\n",
              "      <td>2004-03-10 18:00:00</td>\n",
              "      <td>166</td>\n",
              "      <td>2004</td>\n",
              "      <td>3</td>\n",
              "      <td>10</td>\n",
              "      <td>18</td>\n",
              "      <td>0</td>\n",
              "      <td>2</td>\n",
              "    </tr>\n",
              "    <tr>\n",
              "      <th>1</th>\n",
              "      <td>2004-03-10 19:00:00</td>\n",
              "      <td>1174</td>\n",
              "      <td>2004</td>\n",
              "      <td>3</td>\n",
              "      <td>10</td>\n",
              "      <td>19</td>\n",
              "      <td>0</td>\n",
              "      <td>2</td>\n",
              "    </tr>\n",
              "    <tr>\n",
              "      <th>2</th>\n",
              "      <td>2004-03-10 20:00:00</td>\n",
              "      <td>131</td>\n",
              "      <td>2004</td>\n",
              "      <td>3</td>\n",
              "      <td>10</td>\n",
              "      <td>20</td>\n",
              "      <td>0</td>\n",
              "      <td>2</td>\n",
              "    </tr>\n",
              "    <tr>\n",
              "      <th>3</th>\n",
              "      <td>2004-03-10 21:00:00</td>\n",
              "      <td>172</td>\n",
              "      <td>2004</td>\n",
              "      <td>3</td>\n",
              "      <td>10</td>\n",
              "      <td>21</td>\n",
              "      <td>0</td>\n",
              "      <td>2</td>\n",
              "    </tr>\n",
              "    <tr>\n",
              "      <th>4</th>\n",
              "      <td>2004-03-10 22:00:00</td>\n",
              "      <td>131</td>\n",
              "      <td>2004</td>\n",
              "      <td>3</td>\n",
              "      <td>10</td>\n",
              "      <td>22</td>\n",
              "      <td>0</td>\n",
              "      <td>2</td>\n",
              "    </tr>\n",
              "  </tbody>\n",
              "</table>\n",
              "</div>"
            ],
            "text/plain": [
              "            Date_Time  NO2(GT)  year  month  days  hour  minute  dayofweek\n",
              "0 2004-03-10 18:00:00      166  2004      3    10    18       0          2\n",
              "1 2004-03-10 19:00:00     1174  2004      3    10    19       0          2\n",
              "2 2004-03-10 20:00:00      131  2004      3    10    20       0          2\n",
              "3 2004-03-10 21:00:00      172  2004      3    10    21       0          2\n",
              "4 2004-03-10 22:00:00      131  2004      3    10    22       0          2"
            ]
          },
          "metadata": {
            "tags": []
          },
          "execution_count": 28
        }
      ]
    },
    {
      "cell_type": "code",
      "metadata": {
        "id": "uoH79d2hp74i",
        "colab_type": "code",
        "colab": {
          "base_uri": "https://localhost:8080/",
          "height": 129
        },
        "outputId": "35ce33c6-2e9c-4bf9-ff46-5303fd30633f"
      },
      "source": [
        "complete_data['is_weekday']=0\n",
        "for i in range(0 , len(complete_data)):\n",
        "  if complete_data['dayofweek'][i]==5 | complete_data['dayofweek'][i]==6:\n",
        "    complete_data['is_weekday'][i]=0\n",
        "  else:  \n",
        "    complete_data['is_weekday'][i]=1"
      ],
      "execution_count": null,
      "outputs": [
        {
          "output_type": "stream",
          "text": [
            "/usr/local/lib/python3.6/dist-packages/ipykernel_launcher.py:6: SettingWithCopyWarning: \n",
            "A value is trying to be set on a copy of a slice from a DataFrame\n",
            "\n",
            "See the caveats in the documentation: https://pandas.pydata.org/pandas-docs/stable/user_guide/indexing.html#returning-a-view-versus-a-copy\n",
            "  \n"
          ],
          "name": "stderr"
        }
      ]
    },
    {
      "cell_type": "code",
      "metadata": {
        "id": "G4zkwJbLq9s-",
        "colab_type": "code",
        "colab": {
          "base_uri": "https://localhost:8080/",
          "height": 35
        },
        "outputId": "5e4d392d-277c-46b9-9e8f-5c6d7c87ab20"
      },
      "source": [
        "complete_data['Date_Time'][complete_data['is_weekday']==0]"
      ],
      "execution_count": null,
      "outputs": [
        {
          "output_type": "execute_result",
          "data": {
            "text/plain": [
              "Series([], Name: Date_Time, dtype: datetime64[ns])"
            ]
          },
          "metadata": {
            "tags": []
          },
          "execution_count": 44
        }
      ]
    },
    {
      "cell_type": "markdown",
      "metadata": {
        "id": "xSQG7P1_sCrr",
        "colab_type": "text"
      },
      "source": [
        "#Difference between Dates"
      ]
    },
    {
      "cell_type": "code",
      "metadata": {
        "id": "-R7l-1zBrXKP",
        "colab_type": "code",
        "colab": {}
      },
      "source": [
        "df = pd.read_csv('agent_classification.csv')"
      ],
      "execution_count": null,
      "outputs": []
    },
    {
      "cell_type": "code",
      "metadata": {
        "id": "vRsv87MasOvL",
        "colab_type": "code",
        "colab": {
          "base_uri": "https://localhost:8080/",
          "height": 226
        },
        "outputId": "3d4228b4-4bc4-4945-852d-c2a01599162f"
      },
      "source": [
        "df.head()"
      ],
      "execution_count": null,
      "outputs": [
        {
          "output_type": "execute_result",
          "data": {
            "text/html": [
              "<div>\n",
              "<style scoped>\n",
              "    .dataframe tbody tr th:only-of-type {\n",
              "        vertical-align: middle;\n",
              "    }\n",
              "\n",
              "    .dataframe tbody tr th {\n",
              "        vertical-align: top;\n",
              "    }\n",
              "\n",
              "    .dataframe thead th {\n",
              "        text-align: right;\n",
              "    }\n",
              "</style>\n",
              "<table border=\"1\" class=\"dataframe\">\n",
              "  <thead>\n",
              "    <tr style=\"text-align: right;\">\n",
              "      <th></th>\n",
              "      <th>ID</th>\n",
              "      <th>Office_PIN</th>\n",
              "      <th>Application_Receipt_Date</th>\n",
              "      <th>Applicant_City_PIN</th>\n",
              "      <th>Applicant_Gender</th>\n",
              "      <th>Applicant_BirthDate</th>\n",
              "      <th>Applicant_Marital_Status</th>\n",
              "      <th>Applicant_Occupation</th>\n",
              "      <th>Applicant_Qualification</th>\n",
              "      <th>Manager_DOJ</th>\n",
              "      <th>Manager_Joining_Designation</th>\n",
              "      <th>Manager_Current_Designation</th>\n",
              "      <th>Manager_Grade</th>\n",
              "      <th>Manager_Status</th>\n",
              "      <th>Manager_Gender</th>\n",
              "      <th>Manager_DoB</th>\n",
              "      <th>Manager_Num_Application</th>\n",
              "      <th>Manager_Num_Coded</th>\n",
              "      <th>Manager_Business</th>\n",
              "      <th>Manager_Num_Products</th>\n",
              "      <th>Manager_Business2</th>\n",
              "      <th>Manager_Num_Products2</th>\n",
              "      <th>Business_Sourced</th>\n",
              "    </tr>\n",
              "  </thead>\n",
              "  <tbody>\n",
              "    <tr>\n",
              "      <th>0</th>\n",
              "      <td>FIN1000001</td>\n",
              "      <td>842001</td>\n",
              "      <td>4/16/2007</td>\n",
              "      <td>844120.0</td>\n",
              "      <td>M</td>\n",
              "      <td>12/19/1971</td>\n",
              "      <td>M</td>\n",
              "      <td>Others</td>\n",
              "      <td>Graduate</td>\n",
              "      <td>11/10/2005</td>\n",
              "      <td>Level 1</td>\n",
              "      <td>Level 2</td>\n",
              "      <td>3.0</td>\n",
              "      <td>Confirmation</td>\n",
              "      <td>M</td>\n",
              "      <td>2/17/1978</td>\n",
              "      <td>2.0</td>\n",
              "      <td>1.0</td>\n",
              "      <td>335249.0</td>\n",
              "      <td>28.0</td>\n",
              "      <td>335249.0</td>\n",
              "      <td>28.0</td>\n",
              "      <td>0</td>\n",
              "    </tr>\n",
              "    <tr>\n",
              "      <th>1</th>\n",
              "      <td>FIN1000002</td>\n",
              "      <td>842001</td>\n",
              "      <td>4/16/2007</td>\n",
              "      <td>844111.0</td>\n",
              "      <td>M</td>\n",
              "      <td>2/17/1983</td>\n",
              "      <td>S</td>\n",
              "      <td>Others</td>\n",
              "      <td>Class XII</td>\n",
              "      <td>11/10/2005</td>\n",
              "      <td>Level 1</td>\n",
              "      <td>Level 2</td>\n",
              "      <td>3.0</td>\n",
              "      <td>Confirmation</td>\n",
              "      <td>M</td>\n",
              "      <td>2/17/1978</td>\n",
              "      <td>2.0</td>\n",
              "      <td>1.0</td>\n",
              "      <td>335249.0</td>\n",
              "      <td>28.0</td>\n",
              "      <td>335249.0</td>\n",
              "      <td>28.0</td>\n",
              "      <td>1</td>\n",
              "    </tr>\n",
              "    <tr>\n",
              "      <th>2</th>\n",
              "      <td>FIN1000003</td>\n",
              "      <td>800001</td>\n",
              "      <td>4/16/2007</td>\n",
              "      <td>844101.0</td>\n",
              "      <td>M</td>\n",
              "      <td>1/16/1966</td>\n",
              "      <td>M</td>\n",
              "      <td>Business</td>\n",
              "      <td>Class XII</td>\n",
              "      <td>5/27/2006</td>\n",
              "      <td>Level 1</td>\n",
              "      <td>Level 1</td>\n",
              "      <td>2.0</td>\n",
              "      <td>Confirmation</td>\n",
              "      <td>M</td>\n",
              "      <td>3/3/1969</td>\n",
              "      <td>0.0</td>\n",
              "      <td>0.0</td>\n",
              "      <td>357184.0</td>\n",
              "      <td>24.0</td>\n",
              "      <td>357184.0</td>\n",
              "      <td>24.0</td>\n",
              "      <td>0</td>\n",
              "    </tr>\n",
              "    <tr>\n",
              "      <th>3</th>\n",
              "      <td>FIN1000004</td>\n",
              "      <td>814112</td>\n",
              "      <td>4/16/2007</td>\n",
              "      <td>814112.0</td>\n",
              "      <td>M</td>\n",
              "      <td>2/3/1988</td>\n",
              "      <td>S</td>\n",
              "      <td>Salaried</td>\n",
              "      <td>Class XII</td>\n",
              "      <td>8/21/2003</td>\n",
              "      <td>Level 1</td>\n",
              "      <td>Level 3</td>\n",
              "      <td>4.0</td>\n",
              "      <td>Confirmation</td>\n",
              "      <td>F</td>\n",
              "      <td>8/14/1978</td>\n",
              "      <td>0.0</td>\n",
              "      <td>0.0</td>\n",
              "      <td>318356.0</td>\n",
              "      <td>22.0</td>\n",
              "      <td>318356.0</td>\n",
              "      <td>22.0</td>\n",
              "      <td>0</td>\n",
              "    </tr>\n",
              "    <tr>\n",
              "      <th>4</th>\n",
              "      <td>FIN1000005</td>\n",
              "      <td>814112</td>\n",
              "      <td>4/16/2007</td>\n",
              "      <td>815351.0</td>\n",
              "      <td>M</td>\n",
              "      <td>7/4/1985</td>\n",
              "      <td>M</td>\n",
              "      <td>Others</td>\n",
              "      <td>Class XII</td>\n",
              "      <td>5/8/2006</td>\n",
              "      <td>Level 1</td>\n",
              "      <td>Level 1</td>\n",
              "      <td>2.0</td>\n",
              "      <td>Confirmation</td>\n",
              "      <td>M</td>\n",
              "      <td>2/7/1971</td>\n",
              "      <td>2.0</td>\n",
              "      <td>1.0</td>\n",
              "      <td>230402.0</td>\n",
              "      <td>17.0</td>\n",
              "      <td>230402.0</td>\n",
              "      <td>17.0</td>\n",
              "      <td>0</td>\n",
              "    </tr>\n",
              "  </tbody>\n",
              "</table>\n",
              "</div>"
            ],
            "text/plain": [
              "           ID  Office_PIN  ... Manager_Num_Products2  Business_Sourced\n",
              "0  FIN1000001      842001  ...                  28.0                 0\n",
              "1  FIN1000002      842001  ...                  28.0                 1\n",
              "2  FIN1000003      800001  ...                  24.0                 0\n",
              "3  FIN1000004      814112  ...                  22.0                 0\n",
              "4  FIN1000005      814112  ...                  17.0                 0\n",
              "\n",
              "[5 rows x 23 columns]"
            ]
          },
          "metadata": {
            "tags": []
          },
          "execution_count": 46
        }
      ]
    },
    {
      "cell_type": "code",
      "metadata": {
        "id": "YI1zHjtfsQhS",
        "colab_type": "code",
        "colab": {
          "base_uri": "https://localhost:8080/",
          "height": 206
        },
        "outputId": "6f8544dd-6f9b-4009-aa7d-c4a21962da21"
      },
      "source": [
        "df[['Application_Receipt_Date' ,'Applicant_BirthDate']].head()"
      ],
      "execution_count": null,
      "outputs": [
        {
          "output_type": "execute_result",
          "data": {
            "text/html": [
              "<div>\n",
              "<style scoped>\n",
              "    .dataframe tbody tr th:only-of-type {\n",
              "        vertical-align: middle;\n",
              "    }\n",
              "\n",
              "    .dataframe tbody tr th {\n",
              "        vertical-align: top;\n",
              "    }\n",
              "\n",
              "    .dataframe thead th {\n",
              "        text-align: right;\n",
              "    }\n",
              "</style>\n",
              "<table border=\"1\" class=\"dataframe\">\n",
              "  <thead>\n",
              "    <tr style=\"text-align: right;\">\n",
              "      <th></th>\n",
              "      <th>Application_Receipt_Date</th>\n",
              "      <th>Applicant_BirthDate</th>\n",
              "    </tr>\n",
              "  </thead>\n",
              "  <tbody>\n",
              "    <tr>\n",
              "      <th>0</th>\n",
              "      <td>4/16/2007</td>\n",
              "      <td>12/19/1971</td>\n",
              "    </tr>\n",
              "    <tr>\n",
              "      <th>1</th>\n",
              "      <td>4/16/2007</td>\n",
              "      <td>2/17/1983</td>\n",
              "    </tr>\n",
              "    <tr>\n",
              "      <th>2</th>\n",
              "      <td>4/16/2007</td>\n",
              "      <td>1/16/1966</td>\n",
              "    </tr>\n",
              "    <tr>\n",
              "      <th>3</th>\n",
              "      <td>4/16/2007</td>\n",
              "      <td>2/3/1988</td>\n",
              "    </tr>\n",
              "    <tr>\n",
              "      <th>4</th>\n",
              "      <td>4/16/2007</td>\n",
              "      <td>7/4/1985</td>\n",
              "    </tr>\n",
              "  </tbody>\n",
              "</table>\n",
              "</div>"
            ],
            "text/plain": [
              "  Application_Receipt_Date Applicant_BirthDate\n",
              "0                4/16/2007          12/19/1971\n",
              "1                4/16/2007           2/17/1983\n",
              "2                4/16/2007           1/16/1966\n",
              "3                4/16/2007            2/3/1988\n",
              "4                4/16/2007            7/4/1985"
            ]
          },
          "metadata": {
            "tags": []
          },
          "execution_count": 49
        }
      ]
    },
    {
      "cell_type": "code",
      "metadata": {
        "id": "oRk066ows1mY",
        "colab_type": "code",
        "colab": {}
      },
      "source": [
        "df['Applicant_BirthDate'] = pd.to_datetime(df['Applicant_BirthDate'] , format='%m/%d/%Y')"
      ],
      "execution_count": null,
      "outputs": []
    },
    {
      "cell_type": "code",
      "metadata": {
        "id": "x8qOjRJitL3T",
        "colab_type": "code",
        "colab": {}
      },
      "source": [
        "df['Application_Receipt_Date'] = pd.to_datetime(df['Application_Receipt_Date'] , format='%m/%d/%Y')"
      ],
      "execution_count": null,
      "outputs": []
    },
    {
      "cell_type": "code",
      "metadata": {
        "id": "EsK1dSuAtYR_",
        "colab_type": "code",
        "colab": {
          "base_uri": "https://localhost:8080/",
          "height": 35
        },
        "outputId": "929c6210-7bcd-4670-af41-089a240f64a9"
      },
      "source": [
        " (df['Application_Receipt_Date'][0] - df['Applicant_BirthDate'][0]).days/365"
      ],
      "execution_count": null,
      "outputs": [
        {
          "output_type": "execute_result",
          "data": {
            "text/plain": [
              "35.347945205479455"
            ]
          },
          "metadata": {
            "tags": []
          },
          "execution_count": 56
        }
      ]
    },
    {
      "cell_type": "code",
      "metadata": {
        "id": "DuBRnRdbvnCJ",
        "colab_type": "code",
        "colab": {}
      },
      "source": [
        "df['Applicant_Age'] = df.apply(lambda x: (x['Application_Receipt_Date'] - x['Applicant_BirthDate']).days/365 , axis=1)"
      ],
      "execution_count": null,
      "outputs": []
    },
    {
      "cell_type": "code",
      "metadata": {
        "id": "a36wna_Bw0zb",
        "colab_type": "code",
        "colab": {
          "base_uri": "https://localhost:8080/",
          "height": 128
        },
        "outputId": "49f2d1a6-70aa-4871-9eb5-30a7f22b3d87"
      },
      "source": [
        "df['Applicant_Age'].head()"
      ],
      "execution_count": null,
      "outputs": [
        {
          "output_type": "execute_result",
          "data": {
            "text/plain": [
              "0    35.347945\n",
              "1    24.175342\n",
              "2    41.273973\n",
              "3    19.210959\n",
              "4    21.797260\n",
              "Name: Applicant_Age, dtype: float64"
            ]
          },
          "metadata": {
            "tags": []
          },
          "execution_count": 59
        }
      ]
    },
    {
      "cell_type": "code",
      "metadata": {
        "id": "HZUCbz5Cw82F",
        "colab_type": "code",
        "colab": {
          "base_uri": "https://localhost:8080/",
          "height": 359
        },
        "outputId": "9736c248-903f-4343-a7ad-66ad2e8be626"
      },
      "source": [
        "plt.hist(df['Applicant_Age'] , bins=50)\n",
        "plt.show()"
      ],
      "execution_count": null,
      "outputs": [
        {
          "output_type": "stream",
          "text": [
            "/usr/local/lib/python3.6/dist-packages/numpy/lib/histograms.py:839: RuntimeWarning: invalid value encountered in greater_equal\n",
            "  keep = (tmp_a >= first_edge)\n",
            "/usr/local/lib/python3.6/dist-packages/numpy/lib/histograms.py:840: RuntimeWarning: invalid value encountered in less_equal\n",
            "  keep &= (tmp_a <= last_edge)\n"
          ],
          "name": "stderr"
        },
        {
          "output_type": "display_data",
          "data": {
            "image/png": "[encoded data removed]",
            "text/plain": [
              "<Figure size 432x288 with 1 Axes>"
            ]
          },
          "metadata": {
            "tags": [],
            "needs_background": "light"
          }
        }
      ]
    },
    {
      "cell_type": "code",
      "metadata": {
        "id": "V6ZZxuxqxGii",
        "colab_type": "code",
        "colab": {}
      },
      "source": [
        ""
      ],
      "execution_count": null,
      "outputs": []
    }
  ]
}